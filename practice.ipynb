{
  "nbformat": 4,
  "nbformat_minor": 0,
  "metadata": {
    "colab": {
      "provenance": [],
      "collapsed_sections": []
    },
    "kernelspec": {
      "name": "python3",
      "display_name": "Python 3"
    },
    "language_info": {
      "name": "python"
    }
  },
  "cells": [
    {
      "cell_type": "code",
      "execution_count": 5,
      "metadata": {
        "colab": {
          "base_uri": "https://localhost:8080/"
        },
        "id": "IOFQ-YGZ3yGK",
        "outputId": "70da0559-de22-4eb0-e21b-b0e5f791e1d4"
      },
      "outputs": [
        {
          "output_type": "stream",
          "name": "stdout",
          "text": [
            "1\n",
            "3\n",
            "6\n",
            "11\n",
            "17\n",
            "20.3\n",
            "final = 20.3\n"
          ]
        }
      ],
      "source": [
        "l = [1,2,3,\"run\",5,6,\"vasu\",3.3]\n",
        "sum = 0 \n",
        "for i in l:\n",
        "  if type(i) == int or type(i) == float:\n",
        "    sum = sum + i\n",
        "    print(sum)\n",
        "  else:\n",
        "      continue\n",
        "\n",
        "print(f\"final = {sum}\")\n"
      ]
    },
    {
      "cell_type": "code",
      "source": [],
      "metadata": {
        "id": "gBkOeWnOIZ8R"
      },
      "execution_count": null,
      "outputs": []
    },
    {
      "cell_type": "code",
      "source": [
        "l = [1,2,3,\"run\",5,6,\"vasu\",3.3]\n",
        "l1 = []\n",
        "for i in l:\n",
        "  if type(i) == str:\n",
        "    l1.append(i)\n",
        "l1"
      ],
      "metadata": {
        "colab": {
          "base_uri": "https://localhost:8080/"
        },
        "id": "V1Xp58-Z4Q54",
        "outputId": "286838f5-3e11-4793-d243-66dbc7a6d9b1"
      },
      "execution_count": 9,
      "outputs": [
        {
          "output_type": "execute_result",
          "data": {
            "text/plain": [
              "['run', 'vasu']"
            ]
          },
          "metadata": {},
          "execution_count": 9
        }
      ]
    },
    {
      "cell_type": "code",
      "source": [
        "def length(a):\n",
        "  \"\"\" calculates length of string\"\"\"\n",
        "  len = 0\n",
        "  for i in a:\n",
        "    if type(i) == str:\n",
        "      len = len + 1\n",
        "  return len\n"
      ],
      "metadata": {
        "id": "bZNPXuFv8Zyt"
      },
      "execution_count": 30,
      "outputs": []
    },
    {
      "cell_type": "code",
      "source": [
        "a = length(\"vasu\")"
      ],
      "metadata": {
        "id": "aiN22pvkBtQ1"
      },
      "execution_count": 28,
      "outputs": []
    },
    {
      "cell_type": "code",
      "source": [
        "a + 5"
      ],
      "metadata": {
        "colab": {
          "base_uri": "https://localhost:8080/"
        },
        "id": "RvmGqG5TBx_X",
        "outputId": "eecc9648-6d80-4daf-a718-06ad8a0fca0d"
      },
      "execution_count": 29,
      "outputs": [
        {
          "output_type": "execute_result",
          "data": {
            "text/plain": [
              "9"
            ]
          },
          "metadata": {},
          "execution_count": 29
        }
      ]
    },
    {
      "cell_type": "code",
      "source": [
        "a = length(\"vasundhara kumari\")"
      ],
      "metadata": {
        "id": "0WLrZB80C0M-"
      },
      "execution_count": 22,
      "outputs": []
    },
    {
      "cell_type": "code",
      "source": [
        "a"
      ],
      "metadata": {
        "colab": {
          "base_uri": "https://localhost:8080/"
        },
        "id": "uKiapTh3FlMx",
        "outputId": "fda6523c-dbbe-4ebc-b055-2f49364d09a4"
      },
      "execution_count": 23,
      "outputs": [
        {
          "output_type": "execute_result",
          "data": {
            "text/plain": [
              "17"
            ]
          },
          "metadata": {},
          "execution_count": 23
        }
      ]
    },
    {
      "cell_type": "code",
      "source": [
        "type(\"\")"
      ],
      "metadata": {
        "colab": {
          "base_uri": "https://localhost:8080/"
        },
        "id": "Ptzvq-X3FoMQ",
        "outputId": "c12bd454-282c-4022-ea99-17a87be6c389"
      },
      "execution_count": 25,
      "outputs": [
        {
          "output_type": "execute_result",
          "data": {
            "text/plain": [
              "str"
            ]
          },
          "metadata": {},
          "execution_count": 25
        }
      ]
    },
    {
      "cell_type": "code",
      "source": [
        "l = [1,2,3,\"run\",5,6,\"vasu\",3.3]\n",
        "\n",
        "def indexing(l1):\n",
        "  ind = -1\n",
        "  for i in range(len(l1)):\n",
        "    ind = ind + 1\n",
        "    print(f\"{ind} : {l1[i]}\")    \n",
        "  return ind\n"
      ],
      "metadata": {
        "id": "Ffuvv2N5Ib_l"
      },
      "execution_count": 66,
      "outputs": []
    },
    {
      "cell_type": "code",
      "source": [
        "a = indexing(l)"
      ],
      "metadata": {
        "colab": {
          "base_uri": "https://localhost:8080/"
        },
        "id": "Rt5iylLxJJyb",
        "outputId": "357d7e1e-0cd4-42cf-b7ac-632dd738c8ab"
      },
      "execution_count": 67,
      "outputs": [
        {
          "output_type": "stream",
          "name": "stdout",
          "text": [
            "0 : 1\n",
            "1 : 2\n",
            "2 : 3\n",
            "3 : run\n",
            "4 : 5\n",
            "5 : 6\n",
            "6 : vasu\n",
            "7 : 3.3\n"
          ]
        }
      ]
    },
    {
      "cell_type": "code",
      "source": [
        "a"
      ],
      "metadata": {
        "colab": {
          "base_uri": "https://localhost:8080/"
        },
        "id": "CXsrJGNJJQMM",
        "outputId": "689df110-a304-4aa6-e4a5-67b36565e574"
      },
      "execution_count": 68,
      "outputs": [
        {
          "output_type": "execute_result",
          "data": {
            "text/plain": [
              "7"
            ]
          },
          "metadata": {},
          "execution_count": 68
        }
      ]
    },
    {
      "cell_type": "code",
      "source": [],
      "metadata": {
        "id": "jIKR7JF_JZVW"
      },
      "execution_count": null,
      "outputs": []
    }
  ]
}